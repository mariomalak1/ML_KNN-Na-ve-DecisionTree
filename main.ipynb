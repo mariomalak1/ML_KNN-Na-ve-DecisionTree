{
 "cells": [
  {
   "cell_type": "code",
   "execution_count": 13,
   "metadata": {},
   "outputs": [],
   "source": [
    "# libs\n",
    "from sklearn.preprocessing import LabelEncoder\n",
    "from sklearn.neighbors import KNeighborsClassifier\n",
    "import pandas\n",
    "from sklearn.metrics import accuracy_score, precision_score, recall_score"
   ]
  },
  {
   "cell_type": "code",
   "execution_count": 2,
   "metadata": {},
   "outputs": [
    {
     "data": {
      "text/html": [
       "<div>\n",
       "<style scoped>\n",
       "    .dataframe tbody tr th:only-of-type {\n",
       "        vertical-align: middle;\n",
       "    }\n",
       "\n",
       "    .dataframe tbody tr th {\n",
       "        vertical-align: top;\n",
       "    }\n",
       "\n",
       "    .dataframe thead th {\n",
       "        text-align: right;\n",
       "    }\n",
       "</style>\n",
       "<table border=\"1\" class=\"dataframe\">\n",
       "  <thead>\n",
       "    <tr style=\"text-align: right;\">\n",
       "      <th></th>\n",
       "      <th>Temperature</th>\n",
       "      <th>Humidity</th>\n",
       "      <th>Wind_Speed</th>\n",
       "      <th>Cloud_Cover</th>\n",
       "      <th>Pressure</th>\n",
       "    </tr>\n",
       "  </thead>\n",
       "  <tbody>\n",
       "    <tr>\n",
       "      <th>count</th>\n",
       "      <td>2475.000000</td>\n",
       "      <td>2460.000000</td>\n",
       "      <td>2468.000000</td>\n",
       "      <td>2467.000000</td>\n",
       "      <td>2473.000000</td>\n",
       "    </tr>\n",
       "    <tr>\n",
       "      <th>mean</th>\n",
       "      <td>22.573777</td>\n",
       "      <td>64.366909</td>\n",
       "      <td>9.911826</td>\n",
       "      <td>49.808770</td>\n",
       "      <td>1014.409327</td>\n",
       "    </tr>\n",
       "    <tr>\n",
       "      <th>std</th>\n",
       "      <td>7.332397</td>\n",
       "      <td>19.973824</td>\n",
       "      <td>5.780705</td>\n",
       "      <td>29.062298</td>\n",
       "      <td>20.182257</td>\n",
       "    </tr>\n",
       "    <tr>\n",
       "      <th>min</th>\n",
       "      <td>10.001842</td>\n",
       "      <td>30.005071</td>\n",
       "      <td>0.009819</td>\n",
       "      <td>0.015038</td>\n",
       "      <td>980.014486</td>\n",
       "    </tr>\n",
       "    <tr>\n",
       "      <th>25%</th>\n",
       "      <td>16.356603</td>\n",
       "      <td>47.183183</td>\n",
       "      <td>4.782528</td>\n",
       "      <td>24.261914</td>\n",
       "      <td>997.029601</td>\n",
       "    </tr>\n",
       "    <tr>\n",
       "      <th>50%</th>\n",
       "      <td>22.533110</td>\n",
       "      <td>64.090914</td>\n",
       "      <td>9.908572</td>\n",
       "      <td>49.692078</td>\n",
       "      <td>1013.583677</td>\n",
       "    </tr>\n",
       "    <tr>\n",
       "      <th>75%</th>\n",
       "      <td>28.984159</td>\n",
       "      <td>81.561021</td>\n",
       "      <td>14.953142</td>\n",
       "      <td>75.417253</td>\n",
       "      <td>1031.762839</td>\n",
       "    </tr>\n",
       "    <tr>\n",
       "      <th>max</th>\n",
       "      <td>34.995214</td>\n",
       "      <td>99.997481</td>\n",
       "      <td>19.999132</td>\n",
       "      <td>99.997795</td>\n",
       "      <td>1049.985593</td>\n",
       "    </tr>\n",
       "  </tbody>\n",
       "</table>\n",
       "</div>"
      ],
      "text/plain": [
       "       Temperature     Humidity   Wind_Speed  Cloud_Cover     Pressure\n",
       "count  2475.000000  2460.000000  2468.000000  2467.000000  2473.000000\n",
       "mean     22.573777    64.366909     9.911826    49.808770  1014.409327\n",
       "std       7.332397    19.973824     5.780705    29.062298    20.182257\n",
       "min      10.001842    30.005071     0.009819     0.015038   980.014486\n",
       "25%      16.356603    47.183183     4.782528    24.261914   997.029601\n",
       "50%      22.533110    64.090914     9.908572    49.692078  1013.583677\n",
       "75%      28.984159    81.561021    14.953142    75.417253  1031.762839\n",
       "max      34.995214    99.997481    19.999132    99.997795  1049.985593"
      ]
     },
     "execution_count": 2,
     "metadata": {},
     "output_type": "execute_result"
    }
   ],
   "source": [
    "# load data\n",
    "data = pandas.read_csv(\"weather_forecast_data.csv\")\n",
    "data.describe()"
   ]
  },
  {
   "cell_type": "code",
   "execution_count": 3,
   "metadata": {},
   "outputs": [
    {
     "data": {
      "text/plain": [
       "Temperature    25\n",
       "Humidity       40\n",
       "Wind_Speed     32\n",
       "Cloud_Cover    33\n",
       "Pressure       27\n",
       "Rain            0\n",
       "dtype: int64"
      ]
     },
     "execution_count": 3,
     "metadata": {},
     "output_type": "execute_result"
    }
   ],
   "source": [
    "data.isnull().sum()"
   ]
  },
  {
   "cell_type": "code",
   "execution_count": 4,
   "metadata": {},
   "outputs": [],
   "source": [
    "# drop nulls of the data set\n",
    "DF_DropNulls = data.copy()\n",
    "DF_DropNulls.dropna(inplace=True)"
   ]
  },
  {
   "cell_type": "code",
   "execution_count": 6,
   "metadata": {},
   "outputs": [],
   "source": [
    "# get numeric features only\n",
    "numericFeatures = data.select_dtypes(include=\"number\")"
   ]
  },
  {
   "cell_type": "code",
   "execution_count": 7,
   "metadata": {},
   "outputs": [
    {
     "name": "stderr",
     "output_type": "stream",
     "text": [
      "C:\\Users\\HP\\AppData\\Local\\Temp\\ipykernel_12576\\3040548849.py:5: FutureWarning: A value is trying to be set on a copy of a DataFrame or Series through chained assignment using an inplace method.\n",
      "The behavior will change in pandas 3.0. This inplace method will never work because the intermediate object on which we are setting values always behaves as a copy.\n",
      "\n",
      "For example, when doing 'df[col].method(value, inplace=True)', try using 'df.method({col: value}, inplace=True)' or df[col] = df[col].method(value) instead, to perform the operation inplace on the original object.\n",
      "\n",
      "\n",
      "  numericFeaturesWithMean[column].fillna(featureMean, inplace=True)\n"
     ]
    }
   ],
   "source": [
    "# loop on all cols, to replace all nulls of it with the mean of the col\n",
    "numericFeaturesWithMean = numericFeatures.copy()\n",
    "for column in numericFeatures.columns:\n",
    "    featureMean = numericFeaturesWithMean[column].mean()\n",
    "    numericFeaturesWithMean[column].fillna(featureMean, inplace=True)"
   ]
  },
  {
   "cell_type": "markdown",
   "metadata": {},
   "source": [
    "feature scaling <br>\n",
    "spliting data"
   ]
  },
  {
   "cell_type": "code",
   "execution_count": 11,
   "metadata": {},
   "outputs": [],
   "source": [
    "from sklearn.preprocessing import StandardScaler\n",
    "\n",
    "# scalling data \n",
    "scaler = StandardScaler()\n",
    "\n",
    "# scaling data with mean \n",
    "for column in numericFeaturesWithMean.columns:\n",
    "     numericFeaturesWithMean[column] = scaler.fit_transform( numericFeaturesWithMean[[column]])\n",
    "\n",
    "# scaling data without nulls\n",
    "for column in DF_DropNulls.select_dtypes(include=\"number\").columns:\n",
    "   DF_DropNulls[column] = scaler.fit_transform( DF_DropNulls[[column]])\n"
   ]
  },
  {
   "cell_type": "code",
   "execution_count": 14,
   "metadata": {},
   "outputs": [
    {
     "name": "stdout",
     "output_type": "stream",
     "text": [
      "[0 0 0 0 0 0 0 0 0 0]\n"
     ]
    }
   ],
   "source": [
    "# spliting training data and testing data\n",
    "from sklearn.model_selection import train_test_split\n",
    "label_encoder = LabelEncoder()\n",
    "\n",
    "targetFeatureFor_DF_WithMean = label_encoder.fit_transform(data['Rain'])\n",
    "targetFeatureFor_DF_WithoutNulls = label_encoder.fit_transform(DF_DropNulls['Rain'])\n",
    "DF_WithoutNuls_numericFeatrues = DF_DropNulls.select_dtypes(include=\"number\") \n",
    "\n",
    "x_withMean_train, x_withMean_test, y_withMean_train, y_withMean_test = train_test_split(numericFeaturesWithMean, targetFeatureFor_DF_WithMean, test_size=0.2, random_state=42)\n",
    "x_withoutNulls_train, x_withoutNulls_test, y_withoutNulls_train, y_withoutNulls_test = train_test_split(DF_WithoutNuls_numericFeatrues, targetFeatureFor_DF_WithoutNulls, test_size=0.2, random_state=42)\n",
    "\n",
    "\n",
    "print(y_withoutNulls_train[:10])\n",
    "\n",
    " \n",
    " "
   ]
  },
  {
   "cell_type": "code",
   "execution_count": 15,
   "metadata": {},
   "outputs": [],
   "source": [
    "knn_with_mean = KNeighborsClassifier(n_neighbors=5)\n",
    "knn_with_mean.fit(x_withMean_train, y_withMean_train)\n",
    "y_pred_with_mean = knn_with_mean.predict(x_withMean_test)\n"
   ]
  },
  {
   "cell_type": "code",
   "execution_count": 16,
   "metadata": {},
   "outputs": [
    {
     "name": "stdout",
     "output_type": "stream",
     "text": [
      "Accuracy:: 0.968\n",
      "precision: 0.9166666666666666\n",
      "recall: 0.7857142857142857\n"
     ]
    }
   ],
   "source": [
    "print(\"Accuracy::\", accuracy_score(y_withMean_test, y_pred_with_mean))\n",
    "print(\"precision:\",precision_score(y_withMean_test, y_pred_with_mean))\n",
    "print(\"recall:\",recall_score(y_withMean_test, y_pred_with_mean))"
   ]
  },
  {
   "cell_type": "code",
   "execution_count": 18,
   "metadata": {},
   "outputs": [],
   "source": [
    "knn_without_nulls = KNeighborsClassifier(n_neighbors=5)\n",
    "knn_without_nulls.fit(x_withoutNulls_train, y_withoutNulls_train)\n",
    "y_pred_without_nulls = knn_without_nulls.predict(x_withoutNulls_test)"
   ]
  },
  {
   "cell_type": "code",
   "execution_count": 19,
   "metadata": {},
   "outputs": [
    {
     "name": "stdout",
     "output_type": "stream",
     "text": [
      "Accuracy: 0.9617021276595744\n",
      "precision: 0.890625\n",
      "recall: 0.8382352941176471\n"
     ]
    }
   ],
   "source": [
    "print(\"Accuracy:\", accuracy_score(y_withoutNulls_test, y_pred_without_nulls))\n",
    "print(\"precision:\",precision_score(y_withoutNulls_test, y_pred_without_nulls))\n",
    "print(\"recall:\",recall_score (y_withoutNulls_test, y_pred_without_nulls))\n"
   ]
  },
  {
   "cell_type": "code",
   "execution_count": 20,
   "metadata": {},
   "outputs": [
    {
     "ename": "SyntaxError",
     "evalue": "invalid syntax (3528599804.py, line 1)",
     "output_type": "error",
     "traceback": [
      "\u001b[1;36m  Cell \u001b[1;32mIn[20], line 1\u001b[1;36m\u001b[0m\n\u001b[1;33m    git status\u001b[0m\n\u001b[1;37m        ^\u001b[0m\n\u001b[1;31mSyntaxError\u001b[0m\u001b[1;31m:\u001b[0m invalid syntax\n"
     ]
    }
   ],
   "source": []
  },
  {
   "cell_type": "code",
   "execution_count": null,
   "metadata": {},
   "outputs": [],
   "source": []
  }
 ],
 "metadata": {
  "kernelspec": {
   "display_name": "Python 3 (ipykernel)",
   "language": "python",
   "name": "python3"
  },
  "language_info": {
   "codemirror_mode": {
    "name": "ipython",
    "version": 3
   },
   "file_extension": ".py",
   "mimetype": "text/x-python",
   "name": "python",
   "nbconvert_exporter": "python",
   "pygments_lexer": "ipython3",
   "version": "3.13.0"
  }
 },
 "nbformat": 4,
 "nbformat_minor": 4
}
